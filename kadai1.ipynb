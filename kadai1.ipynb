{
 "cells": [
  {
   "cell_type": "code",
   "execution_count": 1,
   "metadata": {},
   "outputs": [
    {
     "name": "stdout",
     "output_type": "stream",
     "text": [
      "Requirement already satisfied: pyqubo in /opt/anaconda3/lib/python3.7/site-packages (0.4.0)\n",
      "Requirement already satisfied: dwave-neal>=0.4.2 in /opt/anaconda3/lib/python3.7/site-packages (from pyqubo) (0.5.4)\n",
      "Requirement already satisfied: six<2.0.0,>=1.10.0 in /opt/anaconda3/lib/python3.7/site-packages (from pyqubo) (1.12.0)\n",
      "Requirement already satisfied: numpy<2.0.0,>=1.14.0 in /opt/anaconda3/lib/python3.7/site-packages (from pyqubo) (1.19.1)\n",
      "Requirement already satisfied: dimod>=0.7.4 in /opt/anaconda3/lib/python3.7/site-packages (from pyqubo) (0.9.5)\n",
      "\u001b[33mWARNING: You are using pip version 20.1; however, version 20.2.1 is available.\n",
      "You should consider upgrading via the '/opt/anaconda3/bin/python -m pip install --upgrade pip' command.\u001b[0m\n"
     ]
    }
   ],
   "source": [
    "!pip install pyqubo"
   ]
  },
  {
   "cell_type": "code",
   "execution_count": 440,
   "metadata": {},
   "outputs": [],
   "source": [
    "#頂点数\n",
    "N_VER = 10\n",
    "#色の数\n",
    "N_COLOR = 5\n",
    "#辺の数\n",
    "N_EDGE = 20"
   ]
  },
  {
   "cell_type": "code",
   "execution_count": 445,
   "metadata": {},
   "outputs": [
    {
     "name": "stdout",
     "output_type": "stream",
     "text": [
      "[(5, 9), (5, 6), (1, 5), (4, 0), (0, 7), (7, 5), (6, 1), (6, 3), (0, 1), (9, 3), (1, 7), (9, 6), (0, 3), (7, 4), (8, 9), (0, 8), (4, 3)]\n"
     ]
    }
   ],
   "source": [
    "#グラフを作成します\n",
    "graph = []\n",
    "for i in range(N_EDGE):\n",
    "    a = random.randint(0, N_VER-1)\n",
    "    b = random.randint(0, N_VER-1)\n",
    "    if a!=b and (a,b) not in graph and (b,a) not in graph:\n",
    "        graph.append((a,b))\n",
    "print(graph)"
   ]
  },
  {
   "cell_type": "code",
   "execution_count": 446,
   "metadata": {},
   "outputs": [],
   "source": [
    "#PYQUBOをimportします\n",
    "from pyqubo import Array, Constraint, solve_qubo"
   ]
  },
  {
   "cell_type": "code",
   "execution_count": 447,
   "metadata": {},
   "outputs": [],
   "source": [
    "x = Array.create('x', shape=(N_VER,N_COLOR), vartype='BINARY')"
   ]
  },
  {
   "cell_type": "code",
   "execution_count": 448,
   "metadata": {},
   "outputs": [],
   "source": [
    "# ハミルトニアンの第一項 \n",
    "H_A = Constraint(sum((1-sum(x[v,i] for i in range(1,N_COLOR)))**2 for v in range(N_VER)), label='HA')\n",
    "# ハミルトニアンの第二項 \n",
    "H_B = sum(sum(x[u,i] * x[v,i] for i in range (1,N_COLOR)) for u,v in graph)\n",
    "# ハミルトニアン全体を定義します\n",
    "Q = H_A+H_B"
   ]
  },
  {
   "cell_type": "code",
   "execution_count": 449,
   "metadata": {},
   "outputs": [],
   "source": [
    "model = Q.compile()\n",
    "qubo, offset = model.to_qubo()"
   ]
  },
  {
   "cell_type": "code",
   "execution_count": 450,
   "metadata": {},
   "outputs": [
    {
     "name": "stdout",
     "output_type": "stream",
     "text": [
      "{'x[0][1]': 1, 'x[0][2]': 0, 'x[0][3]': 0, 'x[0][4]': 0, 'x[1][1]': 0, 'x[1][2]': 0, 'x[1][3]': 0, 'x[1][4]': 1, 'x[2][1]': 0, 'x[2][2]': 0, 'x[2][3]': 0, 'x[2][4]': 1, 'x[3][1]': 0, 'x[3][2]': 1, 'x[3][3]': 0, 'x[3][4]': 0, 'x[4][1]': 0, 'x[4][2]': 0, 'x[4][3]': 0, 'x[4][4]': 1, 'x[5][1]': 0, 'x[5][2]': 0, 'x[5][3]': 1, 'x[5][4]': 0, 'x[6][1]': 1, 'x[6][2]': 0, 'x[6][3]': 0, 'x[6][4]': 0, 'x[7][1]': 0, 'x[7][2]': 1, 'x[7][3]': 0, 'x[7][4]': 0, 'x[8][1]': 0, 'x[8][2]': 0, 'x[8][3]': 1, 'x[8][4]': 0, 'x[9][1]': 0, 'x[9][2]': 0, 'x[9][3]': 0, 'x[9][4]': 1}\n"
     ]
    }
   ],
   "source": [
    "# PyQUBOに備わっているSAを使います\n",
    "raw_solution = solve_qubo(qubo)\n",
    "print(raw_solution)"
   ]
  },
  {
   "cell_type": "code",
   "execution_count": 456,
   "metadata": {},
   "outputs": [
    {
     "name": "stdout",
     "output_type": "stream",
     "text": [
      "{0: {1: 1, 2: 0, 3: 0, 4: 0}, 1: {1: 0, 2: 0, 3: 0, 4: 1}, 2: {1: 0, 2: 0, 3: 0, 4: 1}, 3: {1: 0, 2: 1, 3: 0, 4: 0}, 4: {1: 0, 2: 0, 3: 0, 4: 1}, 5: {1: 0, 2: 0, 3: 1, 4: 0}, 6: {1: 1, 2: 0, 3: 0, 4: 0}, 7: {1: 0, 2: 1, 3: 0, 4: 0}, 8: {1: 0, 2: 0, 3: 1, 4: 0}, 9: {1: 0, 2: 0, 3: 0, 4: 1}}\n"
     ]
    }
   ],
   "source": [
    "#結果の表示\n",
    "decoded_solution, broken, energy = model.decode_solution(raw_solution, vartype=\"BINARY\")\n",
    "print(decoded_solution['x'])"
   ]
  },
  {
   "cell_type": "code",
   "execution_count": 452,
   "metadata": {},
   "outputs": [
    {
     "name": "stdout",
     "output_type": "stream",
     "text": [
      "{}\n"
     ]
    }
   ],
   "source": [
    "#制約を守れているか見ます\n",
    "print(broken)"
   ]
  },
  {
   "cell_type": "code",
   "execution_count": 453,
   "metadata": {},
   "outputs": [],
   "source": [
    "# OpenJijのインポートをします\n",
    "import openjij as oj\n",
    "# SQAを使います。\n",
    "sampler = oj.SQASampler()\n",
    "# PYQUBOで使ったquboを使います。\n",
    "response = sampler.sample_qubo(Q=qubo)"
   ]
  },
  {
   "cell_type": "code",
   "execution_count": 455,
   "metadata": {},
   "outputs": [
    {
     "name": "stdout",
     "output_type": "stream",
     "text": [
      "{0: {1: 0, 2: 0, 3: 1, 4: 0}, 1: {1: 0, 2: 0, 3: 0, 4: 1}, 2: {1: 0, 2: 0, 3: 1, 4: 0}, 3: {1: 0, 2: 0, 3: 0, 4: 1}, 4: {1: 0, 2: 1, 3: 0, 4: 0}, 5: {1: 0, 2: 1, 3: 0, 4: 0}, 6: {1: 0, 2: 0, 3: 1, 4: 0}, 7: {1: 1, 2: 0, 3: 0, 4: 0}, 8: {1: 0, 2: 1, 3: 0, 4: 0}, 9: {1: 1, 2: 0, 3: 0, 4: 0}}\n"
     ]
    }
   ],
   "source": [
    "# エネルギーが一番低い状態を取り出します。\n",
    "dict_solution = response.first.sample\n",
    "# デコードします。\n",
    "decoded_solution, broken, energy = model.decode_solution(dict_solution, vartype=\"BINARY\")\n",
    "# 辞書型をsortして見やすくする処理を追加します。\n",
    "x_solution = dict(sorted(decoded_solution['x'].items()))\n",
    "print({key:dict(sorted(value.items())) for key, value in x_solution.items()})"
   ]
  },
  {
   "cell_type": "code",
   "execution_count": null,
   "metadata": {},
   "outputs": [],
   "source": []
  },
  {
   "cell_type": "code",
   "execution_count": null,
   "metadata": {},
   "outputs": [],
   "source": []
  }
 ],
 "metadata": {
  "kernelspec": {
   "display_name": "Python 3",
   "language": "python",
   "name": "python3"
  },
  "language_info": {
   "codemirror_mode": {
    "name": "ipython",
    "version": 3
   },
   "file_extension": ".py",
   "mimetype": "text/x-python",
   "name": "python",
   "nbconvert_exporter": "python",
   "pygments_lexer": "ipython3",
   "version": "3.7.4"
  }
 },
 "nbformat": 4,
 "nbformat_minor": 4
}
